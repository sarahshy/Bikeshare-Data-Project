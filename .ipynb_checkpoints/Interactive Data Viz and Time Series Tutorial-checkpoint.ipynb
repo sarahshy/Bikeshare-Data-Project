{
 "cells": [
  {
   "cell_type": "markdown",
   "metadata": {},
   "source": [
    "# Tutorial: Interactive Data Viz and Time Series Analysis\n",
    "## Created by Sarah Shy\n",
    "#### March 12, 2018\n",
    "#### 15-388 Practical Data Science, CMU"
   ]
  },
  {
   "cell_type": "markdown",
   "metadata": {},
   "source": [
    "# 1. Load the Data\n",
    "\n",
    "https://austinbcycle.com/how-it-works/faqs\n",
    "\n",
    "First, we load the libraries and data into our environment.\n",
    "\n",
    "Note that if you have not installed plotly, you can install by running the following code in your terminal:\n",
    "\n",
    "\\$ pip install plotly \n",
    "or \n",
    "\\$ sudo pip install plotly \n",
    "\n",
    "To install cufflinks: ! pip install cufflinks --upgrade\n"
   ]
  },
  {
   "cell_type": "code",
   "execution_count": 8,
   "metadata": {},
   "outputs": [
    {
     "data": {
      "text/html": [
       "<iframe width=\"900\" height=\"800\" frameborder=\"0\" scrolling=\"no\" src=\"//plot.ly/~sarahshy/44.embed\"></iframe>"
      ],
      "text/plain": [
       "<IPython.core.display.HTML object>"
      ]
     },
     "execution_count": 8,
     "metadata": {},
     "output_type": "execute_result"
    }
   ],
   "source": [
    "#import IPython\n",
    "#iframe = '<iframe width=\"900\" height=\"800\" frameborder=\"0\" scrolling=\"no\" src=\"//plot.ly/~sarahshy/44.embed\"></iframe>'\n",
    "#IPython.display.HTML(iframe)"
   ]
  },
  {
   "cell_type": "code",
   "execution_count": null,
   "metadata": {},
   "outputs": [],
   "source": [
    "#load packages\n",
    "import pandas as pd\n",
    "import plotly.plotly as py\n",
    "import plotly.graph_objs as go\n",
    "import cufflinks as cf\n",
    "import numpy as np\n",
    "import plotly.tools as tls"
   ]
  },
  {
   "cell_type": "raw",
   "metadata": {},
   "source": [
    "<iframe width=\"900\" height=\"800\" frameborder=\"0\" scrolling=\"no\" src=\"//plot.ly/~sarahshy/44.embed?width=900&height=80\"></iframe>\n",
    "\n",
    "a"
   ]
  },
  {
   "cell_type": "code",
   "execution_count": null,
   "metadata": {},
   "outputs": [],
   "source": [
    "#load data\n",
    "bike_trips = pd.read_csv(\"austin_bikeshare_trips.csv\")\n",
    "bike_stations = pd.read_csv(\"austin_bikeshare_stations.csv\")"
   ]
  },
  {
   "cell_type": "markdown",
   "metadata": {},
   "source": [
    "The _bike trips_ dataset contains the following variables:\n",
    "-  bikeid: integer id of bike\n",
    "-  checkout_time: HH:MM:SS, see start time for date stamp\n",
    "-  duration_minutes: integer minutes of trip duration\n",
    "-  end_station_id: integer id of end station\n",
    "-  end_station_name: string of end station name\n",
    "-  month: month, integer (1 = January)\n",
    "-  start_station_id: integer id of start station\n",
    "-  start_station_name: string of start station name\n",
    "-  start_time: YYYY-MM-DD HH:MM:SS, string\n",
    "-  subscriber_type: membership type\n",
    "-  trip_id: unique trip id, int\n",
    "-  year: year of trip, int\n",
    "\n",
    "\n",
    "The _bike stations_ dataset contains the following variables:\n",
    "-  latitude: geospatial latitude, precision to 5 places\n",
    "-  location: (lat, lon)\n",
    "-  longitude: geospatial longitude, precision to 5 places\n",
    "-  name: station name, str\n",
    "-  stations_id: unique station id, int\n",
    "-  status: station status (active, closed, moved, ACL-only), ACL is a music festival\n",
    "\n",
    "_Note: variable definitions were taken from the dataset's Kaggle description: https://www.kaggle.com/jboysen/austin-bike._"
   ]
  },
  {
   "cell_type": "code",
   "execution_count": null,
   "metadata": {},
   "outputs": [],
   "source": [
    "#\n",
    "bike_trips.head()\n",
    "#bike_stations.head()\n",
    "#list(bike_data)\n",
    "#type(bike_data['start_time'][0]) #string\n",
    "#bike_trips.shape #649231 by 12\n",
    "#bike_stations.shape #72 by 6"
   ]
  },
  {
   "cell_type": "code",
   "execution_count": null,
   "metadata": {},
   "outputs": [],
   "source": [
    "# TAKE CARE OF MISSING DATA\n",
    "\n",
    "len(bike_trips[pd.isnull(bike_trips).any(axis=1)])\n",
    "#there are 67606 rolws in bike trips with missing data\n",
    "\n",
    "len(bike_stations[pd.isnull(bike_stations).any(axis=1)])\n",
    "#there are 0 rows in bike stations with missing data\n",
    "\n",
    "#REMOVE MISSING DATA ROWS FROM BIKE_TRIPS\n",
    "bike_trips_clean = bike_trips.copy()\n",
    "bike_trips_clean = bike_trips.dropna()\n",
    "#bike_trips_clean = bike_trips[bike_trips.year == 2017.0]\n",
    "#bike_trips_clean.shape"
   ]
  },
  {
   "cell_type": "markdown",
   "metadata": {},
   "source": [
    "# 2. Plotting Trip Duration"
   ]
  },
  {
   "cell_type": "code",
   "execution_count": null,
   "metadata": {},
   "outputs": [],
   "source": [
    "#PLOTTING duration of trips. We cut off at 4 hours because there's a long tail with few data points. With membership, maximum is 1 hour before charging extra.\n",
    "\n",
    "duration_data = bike_trips_clean.duration_minutes[bike_trips_clean.duration_minutes <= 180]\n",
    "duration_data.iplot(kind = 'histogram', filename = \"duration-plot\", bins = 72)\n",
    "#print(len(duration_data))\n",
    "#data = [go.Histogram(x = duration_data)]\n",
    "#py.iplot(data, filename = 'trip-duration')\n",
    "#duration_data.iplot(kind = 'histogram', filename = 'trip-duration')\n",
    "\n",
    "#bike_trips.duration_minutes.iplot(kind = 'histogram',  filename='simple histogram') #uses cufflink"
   ]
  },
  {
   "cell_type": "code",
   "execution_count": null,
   "metadata": {},
   "outputs": [],
   "source": [
    "tls.get_embed(\"https://plot.ly/~sarahshy/44\")"
   ]
  },
  {
   "cell_type": "markdown",
   "metadata": {},
   "source": [
    "So mostly short trips with 5-9 being most common trip time with over 132,000 trips. *******Compare to table"
   ]
  },
  {
   "cell_type": "markdown",
   "metadata": {},
   "source": [
    "But what if interested in how the duration changes with time of year? Use 'restyle' dropdowns."
   ]
  },
  {
   "cell_type": "markdown",
   "metadata": {},
   "source": [
    "# Adding a Dropdown for Season"
   ]
  },
  {
   "cell_type": "code",
   "execution_count": null,
   "metadata": {},
   "outputs": [],
   "source": [
    "#create df\n",
    "\n",
    "df = pd.DataFrame({'fall': bike_trips_clean.duration_minutes[bike_trips_clean.month.between(9,11)][bike_trips_clean.duration_minutes <= 10],\n",
    "                   'winter': bike_trips_clean.duration_minutes[bike_trips_clean.month.isin([12,1,2])][bike_trips_clean.duration_minutes <= 10],\n",
    "                   'spring': bike_trips_clean.duration_minutes[bike_trips_clean.month.between(3,5)][bike_trips_clean.duration_minutes <= 10],\n",
    "                   'summer': bike_trips_clean.duration_minutes[bike_trips_clean.month.between(6,8)][bike_trips_clean.duration_minutes <= 10]\n",
    "                  })\n",
    "len(df)"
   ]
  },
  {
   "cell_type": "code",
   "execution_count": null,
   "metadata": {
    "scrolled": true
   },
   "outputs": [],
   "source": [
    "#plot\n",
    "\n",
    "updatemenus = list([\n",
    "    dict(active = -1,\n",
    "        buttons=list([\n",
    "            dict(label = 'All',\n",
    "                method = 'update',\n",
    "                args = [{'visible': [True, True, True, True]},\n",
    "                        {'title': \"Duration of Trips by Season\"}]),\n",
    "            dict(label = 'Fall',\n",
    "                method = 'update',\n",
    "                args = [{'visible': [True, False, False, False]},\n",
    "                        {'title': 'Duration of Trips in Fall'}]),\n",
    "            dict(label = 'Winter',\n",
    "                method = 'update',\n",
    "                args = [{'visible': [False, False, False, True]},\n",
    "                        {'title': 'Duration of Trips in Fall'}]),\n",
    "            dict(label = 'Spring',\n",
    "                method = 'update',\n",
    "                args = [{'visible': [False, True, False, False]},\n",
    "                        {'title': 'Duration of Trips in Spring'}]),\n",
    "            dict(label = 'Summer',\n",
    "                method = 'update',\n",
    "                args = [{'visible': [False, False, True, False]},\n",
    "                        {'title': 'Duration of Trips in Spring'}])\n",
    "        ]),)\n",
    "])\n",
    "\n",
    "layout = dict(title = \"Duration of Trips\", updatemenus = updatemenus, yaxis = dict(range = [0, 50000]), barmode='overlay', showlegend = False)\n",
    "\n",
    "\n",
    "df.iplot(kind='histogram', barmode='overlay', filename = 'duration_by_season', layout=layout, bins = 72, shared_yaxes=True, theme = 'solar')\n",
    "     #vline=[dict(x=df.a.mean(),color='#5283AD'), dict(x=df.b.mean(),color='#FDAB5A')])"
   ]
  },
  {
   "cell_type": "code",
   "execution_count": null,
   "metadata": {},
   "outputs": [],
   "source": [
    "tls.embed(\"https://plot.ly/~sarahshy/60\")"
   ]
  },
  {
   "cell_type": "code",
   "execution_count": 13,
   "metadata": {},
   "outputs": [
    {
     "data": {
      "text/html": [
       "<iframe width=\"900\" height=\"800\" frameborder=\"0\" scrolling=\"no\" src=\"//plot.ly/~sarahshy/60.embed\"></iframe>"
      ],
      "text/plain": [
       "<IPython.core.display.HTML object>"
      ]
     },
     "execution_count": 13,
     "metadata": {},
     "output_type": "execute_result"
    }
   ],
   "source": [
    "iframe2 = '<iframe width=\"900\" height=\"800\" frameborder=\"0\" scrolling=\"no\" src=\"//plot.ly/~sarahshy/60.embed\"></iframe>'\n",
    "IPython.display.HTML(iframe2)"
   ]
  },
  {
   "cell_type": "markdown",
   "metadata": {},
   "source": [
    "Fall and Spring the most popular times to use bike share."
   ]
  },
  {
   "cell_type": "markdown",
   "metadata": {},
   "source": [
    "# 3. Plotting Number of Rides Over Time"
   ]
  },
  {
   "cell_type": "code",
   "execution_count": null,
   "metadata": {},
   "outputs": [],
   "source": [
    "# get date\n",
    "\n",
    "bike_trips_clean['start_time'] = pd.to_datetime(bike_trips_clean['start_time']) #convert to datetime object\n",
    "bike_trips_clean['date'] = bike_trips_clean.start_time.dt.date\n",
    "\n",
    "#print((pd.to_datetime(bike_trips_clean.start_time[0])))\n",
    "#print(bike_trips_clean.start_time[0])"
   ]
  },
  {
   "cell_type": "code",
   "execution_count": null,
   "metadata": {},
   "outputs": [],
   "source": [
    "# get trip counts and create df for plotting\n",
    "\n",
    "trip_count = bike_trips_clean.groupby(['date']).count()\n",
    "\n",
    "trips_time_df = pd.DataFrame({'trip_count': trip_count.start_time})\n",
    "print(trips_time_df.head())"
   ]
  },
  {
   "cell_type": "code",
   "execution_count": null,
   "metadata": {},
   "outputs": [],
   "source": [
    "#plot\n",
    "\n",
    "trips_time_df.iplot(filename = 'trips_over_time')"
   ]
  },
  {
   "cell_type": "markdown",
   "metadata": {},
   "source": [
    "# Hard to see, add slider"
   ]
  },
  {
   "cell_type": "code",
   "execution_count": null,
   "metadata": {
    "scrolled": true
   },
   "outputs": [],
   "source": [
    "layout = dict(\n",
    "    title='Time Series with Rangeslider',\n",
    "    xaxis=dict(\n",
    "        rangeselector=dict(\n",
    "            buttons=list([\n",
    "                dict(count=1,\n",
    "                     label='1m',\n",
    "                     step='month',\n",
    "                     stepmode='backward'),\n",
    "                dict(count=6,\n",
    "                     label='6m',\n",
    "                     step='month',\n",
    "                     stepmode='backward'),\n",
    "                dict(step='all')\n",
    "            ])\n",
    "        ),\n",
    "        rangeslider=dict(),\n",
    "        type='date'\n",
    "    )\n",
    ")\n",
    "\n",
    "trips_time_df.iplot(layout = layout, filename = 'trips_over_time_slider')"
   ]
  },
  {
   "cell_type": "code",
   "execution_count": null,
   "metadata": {},
   "outputs": [],
   "source": []
  }
 ],
 "metadata": {
  "kernelspec": {
   "display_name": "Python 3",
   "language": "python",
   "name": "python3"
  },
  "language_info": {
   "codemirror_mode": {
    "name": "ipython",
    "version": 3
   },
   "file_extension": ".py",
   "mimetype": "text/x-python",
   "name": "python",
   "nbconvert_exporter": "python",
   "pygments_lexer": "ipython3",
   "version": "3.6.4"
  }
 },
 "nbformat": 4,
 "nbformat_minor": 2
}
