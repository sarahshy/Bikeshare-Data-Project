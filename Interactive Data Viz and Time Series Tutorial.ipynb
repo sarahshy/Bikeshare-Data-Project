{
 "cells": [
  {
   "cell_type": "markdown",
   "metadata": {},
   "source": [
    "# Tutorial: Interactive Data Viz and Time Series Analysis\n",
    "#### March 12, 2018\n",
    "#### 15-388 Practical Data Science, CMU"
   ]
  },
  {
   "cell_type": "markdown",
   "metadata": {},
   "source": [
    "## 1.1 Introduction\n",
    "Plotly tutorial. Works nicely with pandas and other packages such as cufflinks (what does it do?) and mapbox\n",
    "\n",
    "Static vs interactive graphs\n",
    "\n",
    "Tutorial content"
   ]
  },
  {
   "cell_type": "markdown",
   "metadata": {},
   "source": [
    "## 1.2 Installing Packages"
   ]
  },
  {
   "cell_type": "markdown",
   "metadata": {},
   "source": [
    "First, we'll install the packages that we will use throughout this tutorial.\n",
    "\n",
    "You can install plotly using\n",
    "\n",
    "\\$ pip install plotly \n",
    "\n",
    "\\$ pip install cufflinks --upgrade"
   ]
  },
  {
   "cell_type": "code",
   "execution_count": 1,
   "metadata": {},
   "outputs": [],
   "source": [
    "#load packages\n",
    "import pandas as pd\n",
    "import plotly.plotly as py\n",
    "import plotly.graph_objs as go\n",
    "import cufflinks as cf\n",
    "import numpy as np\n",
    "import plotly.tools as tls"
   ]
  },
  {
   "cell_type": "markdown",
   "metadata": {},
   "source": [
    "## 1.3 Load the Data\n",
    "\n",
    "Explain 2 datasets + using pandas package to handle it because works nicely with plotly\n",
    "https://austinbcycle.com/how-it-works/faqs\n"
   ]
  },
  {
   "cell_type": "code",
   "execution_count": 2,
   "metadata": {},
   "outputs": [],
   "source": [
    "#load data\n",
    "bike_trips = pd.read_csv(\"austin_bikeshare_trips.csv\")\n",
    "bike_stations = pd.read_csv(\"austin_bikeshare_stations.csv\")"
   ]
  },
  {
   "cell_type": "markdown",
   "metadata": {},
   "source": [
    "### Description of Dataset\n",
    "\n",
    "The _bike trips_ dataset contains the following variables:\n",
    "-  bikeid: integer id of bike\n",
    "-  checkout_time: HH:MM:SS, see start time for date stamp\n",
    "-  duration_minutes: integer minutes of trip duration\n",
    "-  end_station_id: integer id of end station\n",
    "-  end_station_name: string of end station name\n",
    "-  month: month, integer (1 = January)\n",
    "-  start_station_id: integer id of start station\n",
    "-  start_station_name: string of start station name\n",
    "-  start_time: YYYY-MM-DD HH:MM:SS, string\n",
    "-  subscriber_type: membership type\n",
    "-  trip_id: unique trip id, int\n",
    "-  year: year of trip, int\n",
    "\n",
    "\n",
    "The _bike stations_ dataset contains the following variables:\n",
    "-  latitude: geospatial latitude, precision to 5 places\n",
    "-  location: (lat, lon)\n",
    "-  longitude: geospatial longitude, precision to 5 places\n",
    "-  name: station name, str\n",
    "-  stations_id: unique station id, int\n",
    "-  status: station status (active, closed, moved, ACL-only), ACL is a music festival\n",
    "\n",
    "_Note: variable definitions were taken from the dataset's Kaggle description: https://www.kaggle.com/jboysen/austin-bike._"
   ]
  },
  {
   "cell_type": "code",
   "execution_count": 4,
   "metadata": {},
   "outputs": [
    {
     "data": {
      "text/html": [
       "<div>\n",
       "<style scoped>\n",
       "    .dataframe tbody tr th:only-of-type {\n",
       "        vertical-align: middle;\n",
       "    }\n",
       "\n",
       "    .dataframe tbody tr th {\n",
       "        vertical-align: top;\n",
       "    }\n",
       "\n",
       "    .dataframe thead th {\n",
       "        text-align: right;\n",
       "    }\n",
       "</style>\n",
       "<table border=\"1\" class=\"dataframe\">\n",
       "  <thead>\n",
       "    <tr style=\"text-align: right;\">\n",
       "      <th></th>\n",
       "      <th>bikeid</th>\n",
       "      <th>checkout_time</th>\n",
       "      <th>duration_minutes</th>\n",
       "      <th>end_station_id</th>\n",
       "      <th>end_station_name</th>\n",
       "      <th>month</th>\n",
       "      <th>start_station_id</th>\n",
       "      <th>start_station_name</th>\n",
       "      <th>start_time</th>\n",
       "      <th>subscriber_type</th>\n",
       "      <th>trip_id</th>\n",
       "      <th>year</th>\n",
       "    </tr>\n",
       "  </thead>\n",
       "  <tbody>\n",
       "    <tr>\n",
       "      <th>0</th>\n",
       "      <td>8.0</td>\n",
       "      <td>19:12:00</td>\n",
       "      <td>41</td>\n",
       "      <td>2565.0</td>\n",
       "      <td>Trinity &amp; 6th Street</td>\n",
       "      <td>3.0</td>\n",
       "      <td>2536.0</td>\n",
       "      <td>Waller &amp; 6th St.</td>\n",
       "      <td>2015-03-19 19:12:00</td>\n",
       "      <td>Walk Up</td>\n",
       "      <td>9900082882</td>\n",
       "      <td>2015.0</td>\n",
       "    </tr>\n",
       "    <tr>\n",
       "      <th>1</th>\n",
       "      <td>141.0</td>\n",
       "      <td>2:06:04</td>\n",
       "      <td>6</td>\n",
       "      <td>2570.0</td>\n",
       "      <td>South Congress &amp; Academy</td>\n",
       "      <td>10.0</td>\n",
       "      <td>2494.0</td>\n",
       "      <td>2nd &amp; Congress</td>\n",
       "      <td>2016-10-30 02:06:04</td>\n",
       "      <td>Local365</td>\n",
       "      <td>12617682</td>\n",
       "      <td>2016.0</td>\n",
       "    </tr>\n",
       "    <tr>\n",
       "      <th>2</th>\n",
       "      <td>578.0</td>\n",
       "      <td>16:28:27</td>\n",
       "      <td>13</td>\n",
       "      <td>2498.0</td>\n",
       "      <td>Convention Center / 4th St. @ MetroRail</td>\n",
       "      <td>3.0</td>\n",
       "      <td>2538.0</td>\n",
       "      <td>Bullock Museum @ Congress &amp; MLK</td>\n",
       "      <td>2016-03-11 16:28:27</td>\n",
       "      <td>Local365</td>\n",
       "      <td>9075366</td>\n",
       "      <td>2016.0</td>\n",
       "    </tr>\n",
       "    <tr>\n",
       "      <th>3</th>\n",
       "      <td>555.0</td>\n",
       "      <td>15:12:00</td>\n",
       "      <td>80</td>\n",
       "      <td>2712.0</td>\n",
       "      <td>Toomey Rd @ South Lamar</td>\n",
       "      <td>11.0</td>\n",
       "      <td>2497.0</td>\n",
       "      <td>Capitol Station / Congress &amp; 11th</td>\n",
       "      <td>2014-11-23 15:12:00</td>\n",
       "      <td>24-Hour Kiosk (Austin B-cycle)</td>\n",
       "      <td>9900319298</td>\n",
       "      <td>2014.0</td>\n",
       "    </tr>\n",
       "    <tr>\n",
       "      <th>4</th>\n",
       "      <td>86.0</td>\n",
       "      <td>15:39:13</td>\n",
       "      <td>25</td>\n",
       "      <td>3377.0</td>\n",
       "      <td>MoPac Pedestrian Bridge @ Veterans Drive</td>\n",
       "      <td>4.0</td>\n",
       "      <td>2707.0</td>\n",
       "      <td>Rainey St @ Cummings</td>\n",
       "      <td>2017-04-16 15:39:13</td>\n",
       "      <td>Walk Up</td>\n",
       "      <td>14468597</td>\n",
       "      <td>2017.0</td>\n",
       "    </tr>\n",
       "  </tbody>\n",
       "</table>\n",
       "</div>"
      ],
      "text/plain": [
       "   bikeid checkout_time  duration_minutes  end_station_id  \\\n",
       "0     8.0      19:12:00                41          2565.0   \n",
       "1   141.0       2:06:04                 6          2570.0   \n",
       "2   578.0      16:28:27                13          2498.0   \n",
       "3   555.0      15:12:00                80          2712.0   \n",
       "4    86.0      15:39:13                25          3377.0   \n",
       "\n",
       "                           end_station_name  month  start_station_id  \\\n",
       "0                      Trinity & 6th Street    3.0            2536.0   \n",
       "1                  South Congress & Academy   10.0            2494.0   \n",
       "2   Convention Center / 4th St. @ MetroRail    3.0            2538.0   \n",
       "3                   Toomey Rd @ South Lamar   11.0            2497.0   \n",
       "4  MoPac Pedestrian Bridge @ Veterans Drive    4.0            2707.0   \n",
       "\n",
       "                  start_station_name           start_time  \\\n",
       "0                   Waller & 6th St.  2015-03-19 19:12:00   \n",
       "1                     2nd & Congress  2016-10-30 02:06:04   \n",
       "2    Bullock Museum @ Congress & MLK  2016-03-11 16:28:27   \n",
       "3  Capitol Station / Congress & 11th  2014-11-23 15:12:00   \n",
       "4               Rainey St @ Cummings  2017-04-16 15:39:13   \n",
       "\n",
       "                  subscriber_type     trip_id    year  \n",
       "0                         Walk Up  9900082882  2015.0  \n",
       "1                        Local365    12617682  2016.0  \n",
       "2                        Local365     9075366  2016.0  \n",
       "3  24-Hour Kiosk (Austin B-cycle)  9900319298  2014.0  \n",
       "4                         Walk Up    14468597  2017.0  "
      ]
     },
     "metadata": {},
     "output_type": "display_data"
    },
    {
     "data": {
      "text/html": [
       "<div>\n",
       "<style scoped>\n",
       "    .dataframe tbody tr th:only-of-type {\n",
       "        vertical-align: middle;\n",
       "    }\n",
       "\n",
       "    .dataframe tbody tr th {\n",
       "        vertical-align: top;\n",
       "    }\n",
       "\n",
       "    .dataframe thead th {\n",
       "        text-align: right;\n",
       "    }\n",
       "</style>\n",
       "<table border=\"1\" class=\"dataframe\">\n",
       "  <thead>\n",
       "    <tr style=\"text-align: right;\">\n",
       "      <th></th>\n",
       "      <th>latitude</th>\n",
       "      <th>location</th>\n",
       "      <th>longitude</th>\n",
       "      <th>name</th>\n",
       "      <th>station_id</th>\n",
       "      <th>status</th>\n",
       "    </tr>\n",
       "  </thead>\n",
       "  <tbody>\n",
       "    <tr>\n",
       "      <th>0</th>\n",
       "      <td>30.27041</td>\n",
       "      <td>(30.27041 -97.75046)</td>\n",
       "      <td>-97.75046</td>\n",
       "      <td>West &amp; 6th St.</td>\n",
       "      <td>2537</td>\n",
       "      <td>active</td>\n",
       "    </tr>\n",
       "    <tr>\n",
       "      <th>1</th>\n",
       "      <td>30.26452</td>\n",
       "      <td>(30.26452 -97.7712)</td>\n",
       "      <td>-97.77120</td>\n",
       "      <td>Barton Springs Pool</td>\n",
       "      <td>2572</td>\n",
       "      <td>active</td>\n",
       "    </tr>\n",
       "    <tr>\n",
       "      <th>2</th>\n",
       "      <td>30.27595</td>\n",
       "      <td>(30.27595 -97.74739)</td>\n",
       "      <td>-97.74739</td>\n",
       "      <td>ACC - Rio Grande &amp; 12th</td>\n",
       "      <td>2545</td>\n",
       "      <td>closed</td>\n",
       "    </tr>\n",
       "    <tr>\n",
       "      <th>3</th>\n",
       "      <td>30.28480</td>\n",
       "      <td>(30.2848 -97.72756)</td>\n",
       "      <td>-97.72756</td>\n",
       "      <td>Red River &amp; LBJ Library</td>\n",
       "      <td>1004</td>\n",
       "      <td>closed</td>\n",
       "    </tr>\n",
       "    <tr>\n",
       "      <th>4</th>\n",
       "      <td>30.26694</td>\n",
       "      <td>(30.26694 -97.74939)</td>\n",
       "      <td>-97.74939</td>\n",
       "      <td>Nueces @ 3rd</td>\n",
       "      <td>1008</td>\n",
       "      <td>moved</td>\n",
       "    </tr>\n",
       "  </tbody>\n",
       "</table>\n",
       "</div>"
      ],
      "text/plain": [
       "   latitude              location  longitude                     name  \\\n",
       "0  30.27041  (30.27041 -97.75046)  -97.75046           West & 6th St.   \n",
       "1  30.26452   (30.26452 -97.7712)  -97.77120      Barton Springs Pool   \n",
       "2  30.27595  (30.27595 -97.74739)  -97.74739  ACC - Rio Grande & 12th   \n",
       "3  30.28480   (30.2848 -97.72756)  -97.72756  Red River & LBJ Library   \n",
       "4  30.26694  (30.26694 -97.74939)  -97.74939             Nueces @ 3rd   \n",
       "\n",
       "   station_id  status  \n",
       "0        2537  active  \n",
       "1        2572  active  \n",
       "2        2545  closed  \n",
       "3        1004  closed  \n",
       "4        1008   moved  "
      ]
     },
     "metadata": {},
     "output_type": "display_data"
    }
   ],
   "source": [
    "import IPython\n",
    "\n",
    "display(bike_trips.head())\n",
    "display(bike_stations.head())"
   ]
  },
  {
   "cell_type": "code",
   "execution_count": null,
   "metadata": {},
   "outputs": [],
   "source": [
    "# Look at the size\n",
    "bike_trips.shape #649231 by 12\n",
    "bike_stations.shape #72 by 6"
   ]
  },
  {
   "cell_type": "code",
   "execution_count": 6,
   "metadata": {},
   "outputs": [
    {
     "data": {
      "text/plain": [
       "(581625, 12)"
      ]
     },
     "execution_count": 6,
     "metadata": {},
     "output_type": "execute_result"
    }
   ],
   "source": [
    "# TAKE CARE OF MISSING DATA\n",
    "\n",
    "len(bike_trips[pd.isnull(bike_trips).any(axis=1)])\n",
    "#there are 67606 rows in bike trips with missing data\n",
    "\n",
    "len(bike_stations[pd.isnull(bike_stations).any(axis=1)])\n",
    "#there are 0 rows in bike stations with missing data\n",
    "\n",
    "#REMOVE MISSING DATA ROWS FROM BIKE_TRIPS\n",
    "bike_trips_clean = bike_trips.copy()\n",
    "bike_trips_clean = bike_trips.dropna()\n",
    "#bike_trips_clean = bike_trips[bike_trips.year == 2017.0]\n",
    "\n",
    "#NEW DATASET SIZE\n",
    "bike_trips_clean.shape"
   ]
  },
  {
   "cell_type": "markdown",
   "metadata": {},
   "source": [
    "## 2.1 Plotting Trip Duration"
   ]
  },
  {
   "cell_type": "markdown",
   "metadata": {},
   "source": [
    "We'll focus on the trip data first and look at stations later on.\n",
    "We can plot using df.iplot"
   ]
  },
  {
   "cell_type": "code",
   "execution_count": null,
   "metadata": {},
   "outputs": [],
   "source": [
    "#PLOTTING duration of trips. We cut off at 6 hours because there's a long tail with few data points. With membership, maximum is 1 hour before charging extra.\n",
    "\n",
    "duration_data = bike_trips_clean.duration_minutes[bike_trips_clean.duration_minutes <= 360]\n",
    "duration_data.iplot(kind = 'histogram', filename = \"trip-duration\", bins = 72)\n",
    "\n",
    "\n",
    "#bike_trips.duration_minutes.iplot(kind = 'histogram',  filename='simple histogram') #uses cufflink"
   ]
  },
  {
   "cell_type": "code",
   "execution_count": 5,
   "metadata": {},
   "outputs": [
    {
     "data": {
      "text/html": [
       "<iframe width=\"900\" height=\"800\" frameborder=\"0\" scrolling=\"no\" src=\"//plot.ly/~sarahshy/44.embed\"></iframe>"
      ],
      "text/plain": [
       "<IPython.core.display.HTML object>"
      ]
     },
     "execution_count": 5,
     "metadata": {},
     "output_type": "execute_result"
    }
   ],
   "source": [
    "iframe = '<iframe width=\"900\" height=\"500\" frameborder=\"0\" scrolling=\"no\" src=\"//plot.ly/~sarahshy/44.embed\"></iframe>'\n",
    "IPython.display.HTML(iframe)"
   ]
  },
  {
   "cell_type": "markdown",
   "metadata": {},
   "source": [
    "So mostly short trips with 5-9 being most common trip time with over 132,000 trips. *******Compare to table"
   ]
  },
  {
   "cell_type": "markdown",
   "metadata": {},
   "source": [
    "But what if interested in how the duration changes with time of year? Use 'restyle' dropdowns."
   ]
  },
  {
   "cell_type": "markdown",
   "metadata": {},
   "source": [
    "## 2.2 Adding a Dropdown for Season"
   ]
  },
  {
   "cell_type": "code",
   "execution_count": 10,
   "metadata": {},
   "outputs": [
    {
     "data": {
      "text/plain": [
       "573479"
      ]
     },
     "execution_count": 10,
     "metadata": {},
     "output_type": "execute_result"
    }
   ],
   "source": [
    "#use date to label each row with the season\n",
    "\n",
    "bike_seasons = pd.DataFrame({'fall': bike_trips_clean.duration_minutes[bike_trips_clean.month.between(9,11)][bike_trips_clean.duration_minutes <= 180],\n",
    "                   'winter': bike_trips_clean.duration_minutes[bike_trips_clean.month.isin([12,1,2])][bike_trips_clean.duration_minutes <= 180],\n",
    "                   'spring': bike_trips_clean.duration_minutes[bike_trips_clean.month.between(3,5)][bike_trips_clean.duration_minutes <= 180],\n",
    "                   'summer': bike_trips_clean.duration_minutes[bike_trips_clean.month.between(6,8)][bike_trips_clean.duration_minutes <= 180]\n",
    "                  })"
   ]
  },
  {
   "cell_type": "code",
   "execution_count": null,
   "metadata": {
    "scrolled": true
   },
   "outputs": [],
   "source": [
    "#add menu buttons\n",
    "\n",
    "updatemenus = list([\n",
    "    dict(active = -1,\n",
    "        buttons=list([\n",
    "            dict(label = 'All',\n",
    "                method = 'update',\n",
    "                args = [{'visible': [True, True, True, True]},\n",
    "                        {'title': \"Duration of Trips by Season\"}]),\n",
    "            dict(label = 'Fall',\n",
    "                method = 'update',\n",
    "                args = [{'visible': [True, False, False, False]},\n",
    "                        {'title': 'Duration of Trips in Fall'}]),\n",
    "            dict(label = 'Winter',\n",
    "                method = 'update',\n",
    "                args = [{'visible': [False, False, False, True]},\n",
    "                        {'title': 'Duration of Trips in Fall'}]),\n",
    "            dict(label = 'Spring',\n",
    "                method = 'update',\n",
    "                args = [{'visible': [False, True, False, False]},\n",
    "                        {'title': 'Duration of Trips in Spring'}]),\n",
    "            dict(label = 'Summer',\n",
    "                method = 'update',\n",
    "                args = [{'visible': [False, False, True, False]},\n",
    "                        {'title': 'Duration of Trips in Spring'}])\n",
    "        ]),)\n",
    "])\n",
    "\n",
    "layout = dict(title = \"Duration of Trips\", updatemenus = updatemenus, yaxis = dict(range = [0, 50000]), barmode='overlay', showlegend = False)\n",
    "\n",
    "\n",
    "bike_seasons.iplot(kind='histogram', barmode='overlay', filename = 'duration_by_season', layout=layout, bins = 72, shared_yaxes=True, theme = 'solar')\n"
   ]
  },
  {
   "cell_type": "code",
   "execution_count": 9,
   "metadata": {},
   "outputs": [
    {
     "data": {
      "text/html": [
       "<iframe width=\"900\" height=\"800\" frameborder=\"0\" scrolling=\"no\" src=\"//plot.ly/~sarahshy/60.embed\"></iframe>"
      ],
      "text/plain": [
       "<IPython.core.display.HTML object>"
      ]
     },
     "execution_count": 9,
     "metadata": {},
     "output_type": "execute_result"
    }
   ],
   "source": [
    "iframe2 = '<iframe width=\"900\" height=\"500\" frameborder=\"0\" scrolling=\"no\" src=\"//plot.ly/~sarahshy/60.embed\"></iframe>'\n",
    "IPython.display.HTML(iframe2)"
   ]
  },
  {
   "cell_type": "markdown",
   "metadata": {},
   "source": [
    "We set the default to display all 4 seasons, overlapping. Using the dropdown, we can filter through each of the seasons. We see that Fall and Spring are the most popular times to use bike share. Possibly due to nice weather."
   ]
  },
  {
   "cell_type": "markdown",
   "metadata": {},
   "source": [
    "## 3.1 Plotting Number of Rides Over Time"
   ]
  },
  {
   "cell_type": "code",
   "execution_count": 7,
   "metadata": {},
   "outputs": [
    {
     "name": "stderr",
     "output_type": "stream",
     "text": [
      "/Users/sarahshy/anaconda3/lib/python3.6/site-packages/ipykernel_launcher.py:3: SettingWithCopyWarning:\n",
      "\n",
      "\n",
      "A value is trying to be set on a copy of a slice from a DataFrame.\n",
      "Try using .loc[row_indexer,col_indexer] = value instead\n",
      "\n",
      "See the caveats in the documentation: http://pandas.pydata.org/pandas-docs/stable/indexing.html#indexing-view-versus-copy\n",
      "\n"
     ]
    },
    {
     "name": "stdout",
     "output_type": "stream",
     "text": [
      "   bikeid checkout_time  duration_minutes  end_station_id  \\\n",
      "0     8.0      19:12:00                41          2565.0   \n",
      "1   141.0       2:06:04                 6          2570.0   \n",
      "2   578.0      16:28:27                13          2498.0   \n",
      "3   555.0      15:12:00                80          2712.0   \n",
      "4    86.0      15:39:13                25          3377.0   \n",
      "\n",
      "                           end_station_name  month  start_station_id  \\\n",
      "0                      Trinity & 6th Street    3.0            2536.0   \n",
      "1                  South Congress & Academy   10.0            2494.0   \n",
      "2   Convention Center / 4th St. @ MetroRail    3.0            2538.0   \n",
      "3                   Toomey Rd @ South Lamar   11.0            2497.0   \n",
      "4  MoPac Pedestrian Bridge @ Veterans Drive    4.0            2707.0   \n",
      "\n",
      "                  start_station_name          start_time  \\\n",
      "0                   Waller & 6th St. 2015-03-19 19:12:00   \n",
      "1                     2nd & Congress 2016-10-30 02:06:04   \n",
      "2    Bullock Museum @ Congress & MLK 2016-03-11 16:28:27   \n",
      "3  Capitol Station / Congress & 11th 2014-11-23 15:12:00   \n",
      "4               Rainey St @ Cummings 2017-04-16 15:39:13   \n",
      "\n",
      "                  subscriber_type     trip_id    year        date  \n",
      "0                         Walk Up  9900082882  2015.0  2015-03-19  \n",
      "1                        Local365    12617682  2016.0  2016-10-30  \n",
      "2                        Local365     9075366  2016.0  2016-03-11  \n",
      "3  24-Hour Kiosk (Austin B-cycle)  9900319298  2014.0  2014-11-23  \n",
      "4                         Walk Up    14468597  2017.0  2017-04-16  \n"
     ]
    },
    {
     "name": "stderr",
     "output_type": "stream",
     "text": [
      "/Users/sarahshy/anaconda3/lib/python3.6/site-packages/ipykernel_launcher.py:4: SettingWithCopyWarning:\n",
      "\n",
      "\n",
      "A value is trying to be set on a copy of a slice from a DataFrame.\n",
      "Try using .loc[row_indexer,col_indexer] = value instead\n",
      "\n",
      "See the caveats in the documentation: http://pandas.pydata.org/pandas-docs/stable/indexing.html#indexing-view-versus-copy\n",
      "\n"
     ]
    }
   ],
   "source": [
    "# The start_time column has both time and date. To plot trips over time, we will only need the date. First, we will convert time to a datetime object so we can extract the date using '.dt.date'.\n",
    "\n",
    "bike_trips_clean['start_time'] = pd.to_datetime(bike_trips_clean['start_time']) #convert to datetime object\n",
    "bike_trips_clean['date'] = bike_trips_clean.start_time.dt.date\n",
    "\n",
    "print(bike_trips_clean.head())"
   ]
  },
  {
   "cell_type": "code",
   "execution_count": 12,
   "metadata": {},
   "outputs": [
    {
     "name": "stdout",
     "output_type": "stream",
     "text": [
      "            trip_count\n",
      "date                  \n",
      "2013-12-21         103\n",
      "2013-12-22         117\n",
      "2013-12-23          96\n",
      "2013-12-24          85\n",
      "2013-12-25         145\n"
     ]
    }
   ],
   "source": [
    "# get trip counts and create df for plotting\n",
    "\n",
    "trip_count = bike_trips_clean.groupby(['date']).count()\n",
    "\n",
    "trips_time_df = pd.DataFrame({'trip_count': trip_count.start_time})\n",
    "print(trips_time_df.head())"
   ]
  },
  {
   "cell_type": "code",
   "execution_count": null,
   "metadata": {},
   "outputs": [],
   "source": [
    "#plot\n",
    "trips_time_df.iplot(filename = 'trips_over_time')"
   ]
  },
  {
   "cell_type": "code",
   "execution_count": 22,
   "metadata": {},
   "outputs": [
    {
     "data": {
      "text/html": [
       "<iframe width=\"900\" height=\"500\" frameborder=\"0\" scrolling=\"no\" src=\"//plot.ly/~sarahshy/69.embed\"></iframe>"
      ],
      "text/plain": [
       "<IPython.core.display.HTML object>"
      ]
     },
     "execution_count": 22,
     "metadata": {},
     "output_type": "execute_result"
    }
   ],
   "source": [
    "iframe3 = '<iframe width=\"900\" height=\"500\" frameborder=\"0\" scrolling=\"no\" src=\"//plot.ly/~sarahshy/69.embed\"></iframe>'\n",
    "IPython.display.HTML(iframe3)"
   ]
  },
  {
   "cell_type": "markdown",
   "metadata": {},
   "source": [
    "## 3.2 Hard to see, add slider"
   ]
  },
  {
   "cell_type": "markdown",
   "metadata": {},
   "source": [
    "We have a lot of data over 3 years and it's hard to see the lines. We'll add a slider that will allow us to zoom in and inspect the data more closely."
   ]
  },
  {
   "cell_type": "code",
   "execution_count": null,
   "metadata": {
    "scrolled": true
   },
   "outputs": [],
   "source": [
    "layout = dict(\n",
    "    title='Time Series with Rangeslider',\n",
    "    xaxis=dict(\n",
    "        rangeselector=dict(\n",
    "            buttons=list([\n",
    "                dict(count=1,\n",
    "                     label='1m',\n",
    "                     step='month',\n",
    "                     stepmode='backward'),\n",
    "                dict(count=6,\n",
    "                     label='6m',\n",
    "                     step='month',\n",
    "                     stepmode='backward'),\n",
    "                dict(step='all')\n",
    "            ])\n",
    "        ),\n",
    "        rangeslider=dict(),\n",
    "        type='date'\n",
    "    )\n",
    ")\n",
    "\n",
    "trips_time_df.iplot(layout = layout, filename = 'trips_over_time_slider')"
   ]
  },
  {
   "cell_type": "code",
   "execution_count": 24,
   "metadata": {},
   "outputs": [
    {
     "data": {
      "text/html": [
       "<iframe width=\"900\" height=\"600\" frameborder=\"0\" scrolling=\"no\" src=\"//plot.ly/~sarahshy/71.embed\"></iframe>"
      ],
      "text/plain": [
       "<IPython.core.display.HTML object>"
      ]
     },
     "execution_count": 24,
     "metadata": {},
     "output_type": "execute_result"
    }
   ],
   "source": [
    "iframe4 = '<iframe width=\"900\" height=\"600\" frameborder=\"0\" scrolling=\"no\" src=\"//plot.ly/~sarahshy/71.embed\"></iframe>'\n",
    "IPython.display.HTML(iframe4)"
   ]
  },
  {
   "cell_type": "markdown",
   "metadata": {},
   "source": [
    "With the slider, we can shorten the interval we look at, and we can drag it over the time axis. Interestingly, huge spikes in end of March, beginning of April every year. We can also see times where we're missing data. For example, April 2016 and December 2016."
   ]
  },
  {
   "cell_type": "markdown",
   "metadata": {},
   "source": [
    "## 4.1 Map Stations\n",
    "\n",
    "Now let's use the station data.\n",
    "Using MapBox since Plotly can only plot country level (i.e. if mapping out USA)\n",
    "\n",
    "Administrators might be interested in knowing which stations are used most. Maybe they can increase the number of bikes at the station, or even charge more with high demand.\n",
    "\n",
    "We can combine our trips dataset with the stations dataset to determine this."
   ]
  },
  {
   "cell_type": "code",
   "execution_count": 61,
   "metadata": {},
   "outputs": [
    {
     "data": {
      "text/html": [
       "<div>\n",
       "<style scoped>\n",
       "    .dataframe tbody tr th:only-of-type {\n",
       "        vertical-align: middle;\n",
       "    }\n",
       "\n",
       "    .dataframe tbody tr th {\n",
       "        vertical-align: top;\n",
       "    }\n",
       "\n",
       "    .dataframe thead th {\n",
       "        text-align: right;\n",
       "    }\n",
       "</style>\n",
       "<table border=\"1\" class=\"dataframe\">\n",
       "  <thead>\n",
       "    <tr style=\"text-align: right;\">\n",
       "      <th></th>\n",
       "      <th>latitude</th>\n",
       "      <th>location</th>\n",
       "      <th>longitude</th>\n",
       "      <th>name</th>\n",
       "      <th>station_id</th>\n",
       "      <th>status</th>\n",
       "    </tr>\n",
       "  </thead>\n",
       "  <tbody>\n",
       "    <tr>\n",
       "      <th>0</th>\n",
       "      <td>30.27041</td>\n",
       "      <td>(30.27041 -97.75046)</td>\n",
       "      <td>-97.75046</td>\n",
       "      <td>West &amp; 6th St.</td>\n",
       "      <td>2537</td>\n",
       "      <td>active</td>\n",
       "    </tr>\n",
       "    <tr>\n",
       "      <th>1</th>\n",
       "      <td>30.26452</td>\n",
       "      <td>(30.26452 -97.7712)</td>\n",
       "      <td>-97.77120</td>\n",
       "      <td>Barton Springs Pool</td>\n",
       "      <td>2572</td>\n",
       "      <td>active</td>\n",
       "    </tr>\n",
       "    <tr>\n",
       "      <th>2</th>\n",
       "      <td>30.27595</td>\n",
       "      <td>(30.27595 -97.74739)</td>\n",
       "      <td>-97.74739</td>\n",
       "      <td>ACC - Rio Grande &amp; 12th</td>\n",
       "      <td>2545</td>\n",
       "      <td>closed</td>\n",
       "    </tr>\n",
       "    <tr>\n",
       "      <th>3</th>\n",
       "      <td>30.28480</td>\n",
       "      <td>(30.2848 -97.72756)</td>\n",
       "      <td>-97.72756</td>\n",
       "      <td>Red River &amp; LBJ Library</td>\n",
       "      <td>1004</td>\n",
       "      <td>closed</td>\n",
       "    </tr>\n",
       "    <tr>\n",
       "      <th>4</th>\n",
       "      <td>30.26694</td>\n",
       "      <td>(30.26694 -97.74939)</td>\n",
       "      <td>-97.74939</td>\n",
       "      <td>Nueces @ 3rd</td>\n",
       "      <td>1008</td>\n",
       "      <td>moved</td>\n",
       "    </tr>\n",
       "  </tbody>\n",
       "</table>\n",
       "</div>"
      ],
      "text/plain": [
       "   latitude              location  longitude                     name  \\\n",
       "0  30.27041  (30.27041 -97.75046)  -97.75046           West & 6th St.   \n",
       "1  30.26452   (30.26452 -97.7712)  -97.77120      Barton Springs Pool   \n",
       "2  30.27595  (30.27595 -97.74739)  -97.74739  ACC - Rio Grande & 12th   \n",
       "3  30.28480   (30.2848 -97.72756)  -97.72756  Red River & LBJ Library   \n",
       "4  30.26694  (30.26694 -97.74939)  -97.74939             Nueces @ 3rd   \n",
       "\n",
       "   station_id  status  \n",
       "0        2537  active  \n",
       "1        2572  active  \n",
       "2        2545  closed  \n",
       "3        1004  closed  \n",
       "4        1008   moved  "
      ]
     },
     "execution_count": 61,
     "metadata": {},
     "output_type": "execute_result"
    }
   ],
   "source": [
    "bike_stations.head()"
   ]
  },
  {
   "cell_type": "code",
   "execution_count": 4,
   "metadata": {},
   "outputs": [
    {
     "name": "stdout",
     "output_type": "stream",
     "text": [
      "True\n"
     ]
    },
    {
     "data": {
      "text/plain": [
       "9002.6"
      ]
     },
     "execution_count": 4,
     "metadata": {},
     "output_type": "execute_result"
    }
   ],
   "source": [
    "#groupby pandas to get the count at each station\n",
    "station_count_df = pd.DataFrame({'station_trip_count': bike_trips.groupby(['start_station_name']).size()})\n",
    "\n",
    "#join with bike_stations dataframe because we'll need the gps coordinates to plot\n",
    "bike_stations_count = bike_stations.join(station_count_df, on = 'name')\n",
    "\n",
    "#check that all stations from bike_trips and bike_stations matched up\n",
    "print(len(bike_stations) == len(bike_stations_count)) #72 bike stations\n",
    "\n",
    "(bike_stations_count['station_trip_count'].mean())"
   ]
  },
  {
   "cell_type": "code",
   "execution_count": 34,
   "metadata": {},
   "outputs": [
    {
     "data": {
      "text/html": [
       "<iframe id=\"igraph\" scrolling=\"no\" style=\"border:none;\" seamless=\"seamless\" src=\"https://plot.ly/~sarahshy/84.embed\" height=\"525px\" width=\"100%\"></iframe>"
      ],
      "text/plain": [
       "<plotly.tools.PlotlyDisplay object>"
      ]
     },
     "execution_count": 34,
     "metadata": {},
     "output_type": "execute_result"
    }
   ],
   "source": [
    "from plotly.graph_objs import *\n",
    "\n",
    "mapbox_access_token = 'pk.eyJ1Ijoic2FyYWhzaHkiLCJhIjoiY2pmYTFtZmtuMnRnbzJ3bG45dDV0MmhtcSJ9.FP2A6vyZ1u1Bm2SL3z84gQ'\n",
    "scale = 500\n",
    "\n",
    "data = Data([\n",
    "    Scattermapbox(\n",
    "        lat = bike_stations_count['latitude'],\n",
    "        lon = bike_stations_count['longitude'],\n",
    "        mode = 'markers',\n",
    "        marker = Marker(\n",
    "            size = (bike_stations_count['station_trip_count'])/scale,\n",
    "            color = 'orange'\n",
    "        ),\n",
    "        text = bike_stations_count['name'],\n",
    "        hoverinfo = 'station_trip_count'\n",
    "    )\n",
    "])\n",
    "layout = Layout(\n",
    "    title = 'Start Station Popularity',\n",
    "    autosize = True,\n",
    "    hovermode = 'closest',\n",
    "    mapbox = dict(\n",
    "        accesstoken = mapbox_access_token,\n",
    "        bearing = 0,\n",
    "        center = dict(\n",
    "            lat = 30.267,\n",
    "            lon = -97.743\n",
    "        ),\n",
    "        pitch = 0,\n",
    "        zoom = 12\n",
    "    ),\n",
    ")\n",
    "\n",
    "fig = dict(data = data, layout = layout)\n",
    "py.iplot(fig, filename = 'stations-bubble-map-mapbox')"
   ]
  }
 ],
 "metadata": {
  "kernelspec": {
   "display_name": "Python 3",
   "language": "python",
   "name": "python3"
  },
  "language_info": {
   "codemirror_mode": {
    "name": "ipython",
    "version": 3
   },
   "file_extension": ".py",
   "mimetype": "text/x-python",
   "name": "python",
   "nbconvert_exporter": "python",
   "pygments_lexer": "ipython3",
   "version": "3.6.4"
  }
 },
 "nbformat": 4,
 "nbformat_minor": 2
}
